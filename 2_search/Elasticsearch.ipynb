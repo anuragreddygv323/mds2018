{
 "cells": [
  {
   "cell_type": "code",
   "execution_count": 53,
   "metadata": {},
   "outputs": [],
   "source": [
    "import json\n",
    "import os\n",
    "import pandas as pd\n",
    "import elasticsearch"
   ]
  },
  {
   "cell_type": "code",
   "execution_count": 54,
   "metadata": {},
   "outputs": [],
   "source": [
    "data_dir = \"~/movielens_v2/movielens\"\n",
    "# data_dir = \"C:/Users/your_username/movielens_v2/\" # For windows"
   ]
  },
  {
   "cell_type": "markdown",
   "metadata": {},
   "source": [
    "#### Load the Movielens Dataset"
   ]
  },
  {
   "cell_type": "code",
   "execution_count": 3,
   "metadata": {},
   "outputs": [],
   "source": [
    "df_dbpedia = pd.read_csv(os.path.join(data_dir, \"dbpedia.csv\"))\n",
    "df_dbpedia[\"dbpedia_content\"] = df_dbpedia[\"dbpedia_content\"].apply(json.loads) # Parse string to JSON\n",
    "df_movie = pd.read_csv(os.path.join(data_dir, \"movies.csv\"))\n",
    "df_movie[\"genres\"] = df_movie[\"genres\"].apply(lambda x: x.replace(\"|\",\",\"))\n",
    "df_rating = pd.read_csv(os.path.join(data_dir, \"ratings.csv\"))\n",
    "df_user = pd.read_csv(os.path.join(data_dir, \"users.csv\"))"
   ]
  },
  {
   "cell_type": "markdown",
   "metadata": {},
   "source": [
    "### Elasticsearch provides a RESTful API. This is language independent\n",
    "- For instance, you can do `curl -XGET http://localhost:9200/` to get information about the node\n",
    "- To create an index, you can use:\n",
    "    - curl -XPUT http://localhost:9200/movies/ -H \"Content-Type: application/json\" -d '{\n",
    "            \"mappings\": {\n",
    "                \"movie\": {\n",
    "                    \"properties\": {\n",
    "                        \"title\": {\n",
    "                           \"type\": \"text\",\n",
    "                           \"analyzer\": \"whitespace\",\n",
    "                           \"term_vector\": \"yes\"\n",
    "                       }\n",
    "                    }\n",
    "                }\n",
    "           }\n",
    "       }'\n",
    "- It is easier to use the python elasticsearch library"
   ]
  },
  {
   "cell_type": "code",
   "execution_count": 4,
   "metadata": {},
   "outputs": [],
   "source": [
    "import elasticsearch # Imports the library"
   ]
  },
  {
   "cell_type": "code",
   "execution_count": 5,
   "metadata": {},
   "outputs": [],
   "source": [
    "es = elasticsearch.Elasticsearch() # Defines how to connect to a Elasticsearch node"
   ]
  },
  {
   "cell_type": "code",
   "execution_count": 52,
   "metadata": {},
   "outputs": [
    {
     "data": {
      "text/plain": [
       "True"
      ]
     },
     "execution_count": 52,
     "metadata": {},
     "output_type": "execute_result"
    }
   ],
   "source": [
    "es.indices.exists(\"movies\")"
   ]
  },
  {
   "cell_type": "code",
   "execution_count": 6,
   "metadata": {},
   "outputs": [],
   "source": [
    "if es.indices.exists(\"movies\"):\n",
    "    es.indices.delete(\"movies\")"
   ]
  },
  {
   "cell_type": "markdown",
   "metadata": {},
   "source": [
    "#### Let's load some data. Movie by movie"
   ]
  },
  {
   "cell_type": "code",
   "execution_count": 7,
   "metadata": {},
   "outputs": [
    {
     "data": {
      "text/html": [
       "<div>\n",
       "<style scoped>\n",
       "    .dataframe tbody tr th:only-of-type {\n",
       "        vertical-align: middle;\n",
       "    }\n",
       "\n",
       "    .dataframe tbody tr th {\n",
       "        vertical-align: top;\n",
       "    }\n",
       "\n",
       "    .dataframe thead th {\n",
       "        text-align: right;\n",
       "    }\n",
       "</style>\n",
       "<table border=\"1\" class=\"dataframe\">\n",
       "  <thead>\n",
       "    <tr style=\"text-align: right;\">\n",
       "      <th></th>\n",
       "      <th>movie_id</th>\n",
       "      <th>title</th>\n",
       "      <th>genres</th>\n",
       "    </tr>\n",
       "  </thead>\n",
       "  <tbody>\n",
       "    <tr>\n",
       "      <th>0</th>\n",
       "      <td>1</td>\n",
       "      <td>Toy Story (1995)</td>\n",
       "      <td>Animation,Children's,Comedy</td>\n",
       "    </tr>\n",
       "    <tr>\n",
       "      <th>1</th>\n",
       "      <td>2</td>\n",
       "      <td>Jumanji (1995)</td>\n",
       "      <td>Adventure,Children's,Fantasy</td>\n",
       "    </tr>\n",
       "    <tr>\n",
       "      <th>2</th>\n",
       "      <td>3</td>\n",
       "      <td>Grumpier Old Men (1995)</td>\n",
       "      <td>Comedy,Romance</td>\n",
       "    </tr>\n",
       "    <tr>\n",
       "      <th>3</th>\n",
       "      <td>4</td>\n",
       "      <td>Waiting to Exhale (1995)</td>\n",
       "      <td>Comedy,Drama</td>\n",
       "    </tr>\n",
       "    <tr>\n",
       "      <th>4</th>\n",
       "      <td>5</td>\n",
       "      <td>Father of the Bride Part II (1995)</td>\n",
       "      <td>Comedy</td>\n",
       "    </tr>\n",
       "  </tbody>\n",
       "</table>\n",
       "</div>"
      ],
      "text/plain": [
       "   movie_id                               title                        genres\n",
       "0         1                    Toy Story (1995)   Animation,Children's,Comedy\n",
       "1         2                      Jumanji (1995)  Adventure,Children's,Fantasy\n",
       "2         3             Grumpier Old Men (1995)                Comedy,Romance\n",
       "3         4            Waiting to Exhale (1995)                  Comedy,Drama\n",
       "4         5  Father of the Bride Part II (1995)                        Comedy"
      ]
     },
     "execution_count": 7,
     "metadata": {},
     "output_type": "execute_result"
    }
   ],
   "source": [
    "df_movie.head()"
   ]
  },
  {
   "cell_type": "code",
   "execution_count": 8,
   "metadata": {},
   "outputs": [],
   "source": [
    "df_dbpedia_merged = df_dbpedia[[\"movie_id\",\"dbpedia_content\"]].merge(df_movie, on=\"movie_id\")"
   ]
  },
  {
   "cell_type": "code",
   "execution_count": 16,
   "metadata": {},
   "outputs": [],
   "source": [
    "def load_n_movies(n):\n",
    "    for i, movie in df_dbpedia_merged.head(n).iterrows():\n",
    "        print(\"Loading movie {}:{}\".format(movie[\"movie_id\"], movie[\"title\"]))\n",
    "        my_movie = {}\n",
    "        my_movie[\"abstract\"] = movie[\"dbpedia_content\"][\"abstract\"]\n",
    "        my_movie[\"title\"] = movie[\"title\"]\n",
    "        my_movie[\"genres\"] = movie[\"genres\"]\n",
    "        es.index(index=\"movies\", body=my_movie, doc_type=\"movie\", id=movie[\"movie_id\"])"
   ]
  },
  {
   "cell_type": "code",
   "execution_count": 18,
   "metadata": {},
   "outputs": [
    {
     "name": "stdout",
     "output_type": "stream",
     "text": [
      "Loading movie 2:Jumanji (1995)\n",
      "Loading movie 3:Grumpier Old Men (1995)\n",
      "Loading movie 4:Waiting to Exhale (1995)\n",
      "Loading movie 5:Father of the Bride Part II (1995)\n",
      "Loading movie 6:Heat (1995)\n"
     ]
    }
   ],
   "source": [
    "load_n_movies(5)"
   ]
  },
  {
   "cell_type": "code",
   "execution_count": 19,
   "metadata": {},
   "outputs": [
    {
     "data": {
      "text/plain": [
       "{'_id': '2',\n",
       " '_index': 'movies',\n",
       " '_source': {'abstract': \"Jumanji is a 1995 American family adventure film directed by Joe Johnston. It is an adaptation of the 1981 children's book of the same name by Chris Van Allsburg. The film was written by Greg Taylor, Jonathan Hensleigh, and Jim Strain, and stars Robin Williams, Kirsten Dunst, Bradley Pierce, David Alan Grier, Bonnie Hunt, Jonathan Hyde, and Bebe Neuwirth. The special effects were provided by Industrial Light & Magic for computer graphic elements and Amalgamated Dynamics for animatronics components. The film was dedicated to visual effects supervisor Stephen L. Price, who died before the film's release. The story centers on young Alan Parrish, who becomes trapped in a board game while playing with his best friend Sarah Whittle in 1969. Twenty-six years later in 1995, siblings Judy and Peter Shepherd find the game, begin playing and then unwittingly release the now-adult Alan. After tracking down Sarah, the quartet resolve to finish the game in order to reverse all of the destruction it has caused. The film was shot in Keene, New Hampshire, representing the story's fictional town of Brantford, New Hampshire. Additional filming took place in Vancouver, British Columbia. The film was released on December 15, 1995. Despite its lukewarm critical reception, it was a box office success, earning $262,797,249 worldwide on a budget of approximately $65 million and it became the 10th highest-grossing movie of 1995. In 2005, a spiritual sequel to Jumanji titled Zathura was released; it was also adapted from a Van Allsburg book. A continuation from the first film's story is currently in development with Dwayne Johnson, Kevin Hart, Jack Black and Karen Gillan cast to play as-of-yet unspecified roles.\",\n",
       "  'genres': \"Adventure,Children's,Fantasy\",\n",
       "  'title': 'Jumanji (1995)'},\n",
       " '_type': 'movie',\n",
       " '_version': 3,\n",
       " 'found': True}"
      ]
     },
     "execution_count": 19,
     "metadata": {},
     "output_type": "execute_result"
    }
   ],
   "source": [
    "# http://localhost:9200/movies/movie/2\n",
    "es.get(\"movies\", doc_type=\"movie\", id=2)"
   ]
  },
  {
   "cell_type": "markdown",
   "metadata": {},
   "source": [
    "#### This is slow, as it will make one HTTP request for each movie"
   ]
  },
  {
   "cell_type": "code",
   "execution_count": 20,
   "metadata": {},
   "outputs": [],
   "source": [
    "from elasticsearch import helpers"
   ]
  },
  {
   "cell_type": "code",
   "execution_count": 21,
   "metadata": {},
   "outputs": [],
   "source": [
    "def fast_load(bulk_size = 10000):\n",
    "    tasks = []\n",
    "    for i, movie in df_dbpedia_merged.iterrows():\n",
    "        try:\n",
    "            my_movie = {}\n",
    "            my_movie[\"abstract\"] = movie[\"dbpedia_content\"][\"abstract\"]\n",
    "            my_movie[\"title\"] = movie[\"title\"]\n",
    "            my_movie[\"genres\"] = movie[\"genres\"]\n",
    "\n",
    "            to_add = {\n",
    "                \"_index\": \"movies\",\n",
    "                \"_type\": \"movie\",\n",
    "                \"_source\": my_movie,\n",
    "                \"_id\": movie[\"movie_id\"]\n",
    "            }\n",
    "            tasks.append(to_add)\n",
    "            if len(tasks) % bulk_size == 0:\n",
    "                helpers.bulk(es, tasks)\n",
    "                tasks = []\n",
    "        except Exception as ex:\n",
    "            print(str(ex))\n",
    "    helpers.bulk(es, tasks)"
   ]
  },
  {
   "cell_type": "markdown",
   "metadata": {},
   "source": [
    "#### What happens if we insert a document using an id that already exists"
   ]
  },
  {
   "cell_type": "code",
   "execution_count": 22,
   "metadata": {},
   "outputs": [],
   "source": [
    "fast_load()"
   ]
  },
  {
   "cell_type": "code",
   "execution_count": 23,
   "metadata": {},
   "outputs": [
    {
     "data": {
      "text/plain": [
       "{'_id': '2',\n",
       " '_index': 'movies',\n",
       " '_source': {'abstract': \"Jumanji is a 1995 American family adventure film directed by Joe Johnston. It is an adaptation of the 1981 children's book of the same name by Chris Van Allsburg. The film was written by Greg Taylor, Jonathan Hensleigh, and Jim Strain, and stars Robin Williams, Kirsten Dunst, Bradley Pierce, David Alan Grier, Bonnie Hunt, Jonathan Hyde, and Bebe Neuwirth. The special effects were provided by Industrial Light & Magic for computer graphic elements and Amalgamated Dynamics for animatronics components. The film was dedicated to visual effects supervisor Stephen L. Price, who died before the film's release. The story centers on young Alan Parrish, who becomes trapped in a board game while playing with his best friend Sarah Whittle in 1969. Twenty-six years later in 1995, siblings Judy and Peter Shepherd find the game, begin playing and then unwittingly release the now-adult Alan. After tracking down Sarah, the quartet resolve to finish the game in order to reverse all of the destruction it has caused. The film was shot in Keene, New Hampshire, representing the story's fictional town of Brantford, New Hampshire. Additional filming took place in Vancouver, British Columbia. The film was released on December 15, 1995. Despite its lukewarm critical reception, it was a box office success, earning $262,797,249 worldwide on a budget of approximately $65 million and it became the 10th highest-grossing movie of 1995. In 2005, a spiritual sequel to Jumanji titled Zathura was released; it was also adapted from a Van Allsburg book. A continuation from the first film's story is currently in development with Dwayne Johnson, Kevin Hart, Jack Black and Karen Gillan cast to play as-of-yet unspecified roles.\",\n",
       "  'genres': \"Adventure,Children's,Fantasy\",\n",
       "  'title': 'Jumanji (1995)'},\n",
       " '_type': 'movie',\n",
       " '_version': 4,\n",
       " 'found': True}"
      ]
     },
     "execution_count": 23,
     "metadata": {},
     "output_type": "execute_result"
    }
   ],
   "source": [
    "es.get(\"movies\", doc_type=\"movie\", id=2)"
   ]
  },
  {
   "cell_type": "markdown",
   "metadata": {},
   "source": [
    "#### Elasticsearch will create an index mapping automatically"
   ]
  },
  {
   "cell_type": "code",
   "execution_count": 25,
   "metadata": {
    "scrolled": false
   },
   "outputs": [
    {
     "data": {
      "text/plain": [
       "{'movies': {'aliases': {},\n",
       "  'mappings': {'movie': {'properties': {'abstract': {'fields': {'keyword': {'ignore_above': 256,\n",
       "        'type': 'keyword'}},\n",
       "      'type': 'text'},\n",
       "     'genres': {'fields': {'keyword': {'ignore_above': 256,\n",
       "        'type': 'keyword'}},\n",
       "      'type': 'text'},\n",
       "     'title': {'fields': {'keyword': {'ignore_above': 256, 'type': 'keyword'}},\n",
       "      'type': 'text'}}}},\n",
       "  'settings': {'index': {'creation_date': '1520255835807',\n",
       "    'number_of_replicas': '1',\n",
       "    'number_of_shards': '5',\n",
       "    'provided_name': 'movies',\n",
       "    'uuid': 'kBTn3DqLRvy_7KRnw-3Hqw',\n",
       "    'version': {'created': '6020299'}}}}}"
      ]
     },
     "execution_count": 25,
     "metadata": {},
     "output_type": "execute_result"
    }
   ],
   "source": [
    "es.indices.get(\"movies\")"
   ]
  },
  {
   "cell_type": "markdown",
   "metadata": {},
   "source": [
    "#### Let's change the mapping, everytime you change a mapping you have to re-index all the documents"
   ]
  },
  {
   "cell_type": "code",
   "execution_count": 30,
   "metadata": {},
   "outputs": [
    {
     "data": {
      "text/plain": [
       "{'acknowledged': True}"
      ]
     },
     "execution_count": 30,
     "metadata": {},
     "output_type": "execute_result"
    }
   ],
   "source": [
    "es.indices.delete(\"movies\")"
   ]
  },
  {
   "cell_type": "code",
   "execution_count": 31,
   "metadata": {},
   "outputs": [
    {
     "data": {
      "text/plain": [
       "{'acknowledged': True, 'index': 'movies', 'shards_acknowledged': True}"
      ]
     },
     "execution_count": 31,
     "metadata": {},
     "output_type": "execute_result"
    }
   ],
   "source": [
    "es.indices.create(index=\"movies\",\n",
    "                               body={\n",
    "                                   \"mappings\": {\n",
    "                                       \"movie\": {\n",
    "                                           \"_all\": {\"enabled\": False},\n",
    "                                           \"_source\": {\"enabled\": True},\n",
    "                                           \"properties\": {\n",
    "                                               \"title\": {\n",
    "                                                   \"type\": \"text\",\n",
    "                                                   \"analyzer\": \"my_english\",\n",
    "                                                   \"term_vector\": \"yes\"\n",
    "                                               },\n",
    "                                               \"genres\": {\n",
    "                                                   \"type\": \"text\",\n",
    "                                                   \"analyzer\": \"genre_analyzer\",\n",
    "                                                   \"term_vector\": \"yes\"\n",
    "                                               },\n",
    "                                               \"abstract\": {\n",
    "                                                   \"type\": \"text\",\n",
    "                                                   \"analyzer\": \"english\",\n",
    "                                                   \"term_vector\": \"yes\"\n",
    "                                               }\n",
    "                                           }\n",
    "                                       }\n",
    "                                   },\n",
    "                                   \"settings\": {\n",
    "                                       \"analysis\": {\n",
    "                                           \"analyzer\": {\n",
    "                                               \"my_english\": {\n",
    "                                                   \"tokenizer\": \"english\",\n",
    "                                                   \"type\": \"english\",\n",
    "                                                   \"stopwords\": \"_english_\",\n",
    "                                               },                                               \n",
    "                                                \"genre_analyzer\": {\n",
    "                                                  \"tokenizer\": \"genre_tokenizer\"\n",
    "                                                }\n",
    "                                           },\n",
    "                                           \"tokenizer\": {\n",
    "                                                \"genre_tokenizer\": {\n",
    "                                                  \"type\": \"pattern\",\n",
    "                                                  \"pattern\": \",\"\n",
    "                                                }\n",
    "                                              }\n",
    "                                        }, \"index\" : {\n",
    "                                            \"number_of_shards\" : 1, \n",
    "                                            \"number_of_replicas\" : 1\n",
    "                                        }\n",
    "                                   }\n",
    "                               }\n",
    "                 )"
   ]
  },
  {
   "cell_type": "code",
   "execution_count": 32,
   "metadata": {},
   "outputs": [
    {
     "data": {
      "text/plain": [
       "{'movies': {'aliases': {},\n",
       "  'mappings': {'movie': {'_all': {'enabled': False},\n",
       "    'properties': {'abstract': {'analyzer': 'english',\n",
       "      'term_vector': 'yes',\n",
       "      'type': 'text'},\n",
       "     'genres': {'analyzer': 'genre_analyzer',\n",
       "      'term_vector': 'yes',\n",
       "      'type': 'text'},\n",
       "     'title': {'analyzer': 'my_english',\n",
       "      'term_vector': 'yes',\n",
       "      'type': 'text'}}}},\n",
       "  'settings': {'index': {'analysis': {'analyzer': {'genre_analyzer': {'tokenizer': 'genre_tokenizer'},\n",
       "      'my_english': {'stopwords': '_english_',\n",
       "       'tokenizer': 'english',\n",
       "       'type': 'english'}},\n",
       "     'tokenizer': {'genre_tokenizer': {'pattern': ',', 'type': 'pattern'}}},\n",
       "    'creation_date': '1520256681358',\n",
       "    'number_of_replicas': '1',\n",
       "    'number_of_shards': '1',\n",
       "    'provided_name': 'movies',\n",
       "    'uuid': 'C0AmRfsnRLeH1EtssFsN3A',\n",
       "    'version': {'created': '6020299'}}}}}"
      ]
     },
     "execution_count": 32,
     "metadata": {},
     "output_type": "execute_result"
    }
   ],
   "source": [
    "es.indices.get(\"movies\")"
   ]
  },
  {
   "cell_type": "code",
   "execution_count": 33,
   "metadata": {},
   "outputs": [],
   "source": [
    "fast_load()"
   ]
  },
  {
   "cell_type": "code",
   "execution_count": 36,
   "metadata": {},
   "outputs": [],
   "source": [
    "terms = es.termvectors(index=\"movies\", \n",
    "                        doc_type=\"movie\", \n",
    "                        id=2,\n",
    "                        params={\"term_statistics\": \"true\", \"positions\": \"true\"})"
   ]
  },
  {
   "cell_type": "markdown",
   "metadata": {},
   "source": [
    "### This will return the stats of the shard containing the document\n",
    "#### doc_freq: document frequency. The number of documents a term appears in. Computed per field.\n",
    "#### term_freq: term frequency. The number times a term appears in a field in one specific document.\n",
    "#### ttf: total term frequency. The number of times this term appears in all documents, that is, the sum of tf over all documents. Computed per field."
   ]
  },
  {
   "cell_type": "code",
   "execution_count": 39,
   "metadata": {},
   "outputs": [
    {
     "data": {
      "text/plain": [
       "{'field_statistics': {'doc_count': 3266,\n",
       "  'sum_doc_freq': 5516,\n",
       "  'sum_ttf': 5516},\n",
       " 'terms': {'Adventure': {'doc_freq': 256, 'term_freq': 1, 'ttf': 256},\n",
       "  \"Children's\": {'doc_freq': 236, 'term_freq': 1, 'ttf': 236},\n",
       "  'Fantasy': {'doc_freq': 63, 'term_freq': 1, 'ttf': 63}}}"
      ]
     },
     "execution_count": 39,
     "metadata": {},
     "output_type": "execute_result"
    }
   ],
   "source": [
    "terms[\"term_vectors\"][\"genres\"]"
   ]
  },
  {
   "cell_type": "markdown",
   "metadata": {},
   "source": [
    "## Searching "
   ]
  },
  {
   "cell_type": "markdown",
   "metadata": {},
   "source": [
    "#### Querying"
   ]
  },
  {
   "cell_type": "code",
   "execution_count": 42,
   "metadata": {
    "scrolled": false
   },
   "outputs": [
    {
     "data": {
      "text/plain": [
       "{'_shards': {'failed': 0, 'skipped': 0, 'successful': 1, 'total': 1},\n",
       " 'hits': {'hits': [], 'max_score': None, 'total': 0},\n",
       " 'timed_out': False,\n",
       " 'took': 2}"
      ]
     },
     "execution_count": 42,
     "metadata": {},
     "output_type": "execute_result"
    }
   ],
   "source": [
    "es.search(index=\"movies\", body={\"query\":\n",
    "                                         {\"match\": {\n",
    "                                             \"genres\":\"sci-Fi\"\n",
    "                                             }\n",
    "                                         }\n",
    "                                    }\n",
    "         )"
   ]
  },
  {
   "cell_type": "code",
   "execution_count": 45,
   "metadata": {},
   "outputs": [
    {
     "data": {
      "text/plain": [
       "{'_shards': {'failed': 0, 'skipped': 0, 'successful': 1, 'total': 1},\n",
       " 'hits': {'hits': [{'_id': '2',\n",
       "    '_index': 'movies',\n",
       "    '_score': 9.087282,\n",
       "    '_source': {'abstract': \"Jumanji is a 1995 American family adventure film directed by Joe Johnston. It is an adaptation of the 1981 children's book of the same name by Chris Van Allsburg. The film was written by Greg Taylor, Jonathan Hensleigh, and Jim Strain, and stars Robin Williams, Kirsten Dunst, Bradley Pierce, David Alan Grier, Bonnie Hunt, Jonathan Hyde, and Bebe Neuwirth. The special effects were provided by Industrial Light & Magic for computer graphic elements and Amalgamated Dynamics for animatronics components. The film was dedicated to visual effects supervisor Stephen L. Price, who died before the film's release. The story centers on young Alan Parrish, who becomes trapped in a board game while playing with his best friend Sarah Whittle in 1969. Twenty-six years later in 1995, siblings Judy and Peter Shepherd find the game, begin playing and then unwittingly release the now-adult Alan. After tracking down Sarah, the quartet resolve to finish the game in order to reverse all of the destruction it has caused. The film was shot in Keene, New Hampshire, representing the story's fictional town of Brantford, New Hampshire. Additional filming took place in Vancouver, British Columbia. The film was released on December 15, 1995. Despite its lukewarm critical reception, it was a box office success, earning $262,797,249 worldwide on a budget of approximately $65 million and it became the 10th highest-grossing movie of 1995. In 2005, a spiritual sequel to Jumanji titled Zathura was released; it was also adapted from a Van Allsburg book. A continuation from the first film's story is currently in development with Dwayne Johnson, Kevin Hart, Jack Black and Karen Gillan cast to play as-of-yet unspecified roles.\",\n",
       "     'genres': \"Adventure,Children's,Fantasy\",\n",
       "     'title': 'Jumanji (1995)'},\n",
       "    '_type': 'movie'}],\n",
       "  'max_score': 9.087282,\n",
       "  'total': 1},\n",
       " 'timed_out': False,\n",
       " 'took': 2}"
      ]
     },
     "execution_count": 45,
     "metadata": {},
     "output_type": "execute_result"
    }
   ],
   "source": [
    "es.search(index=\"movies\", body={\"query\":\n",
    "                                         {\"match\": {\n",
    "                                             \"title\":\"jumanji\"\n",
    "                                             }\n",
    "                                         }\n",
    "                                    }\n",
    "         )"
   ]
  },
  {
   "cell_type": "code",
   "execution_count": 46,
   "metadata": {},
   "outputs": [
    {
     "data": {
      "text/plain": [
       "{'_shards': {'failed': 0, 'skipped': 0, 'successful': 1, 'total': 1},\n",
       " 'hits': {'hits': [{'_id': '3696',\n",
       "    '_index': 'movies',\n",
       "    '_score': 11.877124,\n",
       "    '_source': {'abstract': 'Night of the Creeps is a 1986 American science fiction horror comedy film written and directed by Fred Dekker, starring Tom Atkins, Jason Lively, Steve Marshall and Jill Whitlow. The film is an earnest attempt at a B movie and a homage to the genre. While the main plot of the film is related to zombies, the film also mixes in takes on slashers and alien invasion films. Night of the Creeps did not perform well at the box office, but it developed a cult following.',\n",
       "     'genres': 'Comedy,Horror,Sci-Fi',\n",
       "     'title': 'Night of the Creeps (1986)'},\n",
       "    '_type': 'movie'},\n",
       "   {'_id': '1983',\n",
       "    '_index': 'movies',\n",
       "    '_score': 9.704902,\n",
       "    '_source': {'abstract': \"Halloween II is a 2009 American slasher film written, directed, and produced by Rob Zombie. The film is a sequel to Zombie's 2007 remake of 1978's Halloween, and the tenth installment of the franchise. Picking up where the 2007 film ended, and then jumping ahead one year, Halloween II follows Laurie Strode as she deals with the aftermath of the previous film's events, Dr. Loomis who is trying to capitalize on those events by publishing a new book that chronicles everything that happened, and Michael Myers as he continues his search for Laurie so that he can reunite with his sister. The film sees the return of lead cast members from the 2007 film Malcolm McDowell, Scout Taylor-Compton, and Tyler Mane, who portray Dr. Loomis, Laurie Strode, and Michael Myers, respectively. For Halloween II, Zombie decided to focus more on the connection between Laurie and Michael, and the idea they share similar psychological problems. Zombie wanted the sequel to be more realistic and violent than its 2007 predecessor. For the characters of Halloween II, it is about change. Zombie wanted to look at how the events of the first film affected the characters. Zombie also wanted to show the connection between Laurie and Michael, and provide a glimpse into each character's psyche. Filming primarily took place in Georgia, which provided Zombie with a tax incentive as well as the visual look the director was going for with the film. When it came time to provide a musical score, Zombie had trouble finding a place to include John Carpenter's original Halloween theme music. Although Carpenter's theme was used throughout Zombie's remake, the theme was only included in the final shot of this film. Halloween II was officially released on August 28, 2009 in North America, and was met with a negative reception from critics. On October 30, 2009 it was re-released in North America to coincide with the Halloween holiday weekend. The original opening of the film grossed less than the 2007 remake, with approximately $7 million. The film would go on to earn $33.4 million in North America, and $5.9 million in foreign countries giving the film a worldwide total of $39.3 million.\",\n",
       "     'genres': 'Horror',\n",
       "     'title': 'Halloween II (1981)'},\n",
       "    '_type': 'movie'},\n",
       "   {'_id': '1241',\n",
       "    '_index': 'movies',\n",
       "    '_score': 7.8066077,\n",
       "    '_source': {'abstract': 'Braindead (also known as Dead Alive in North America) is a 1992 New Zealand splatstick zombie film directed by Peter Jackson, produced by John Booth, and written by Jackson, along with Fran Walsh and Stephen Sinclair The film follows Lionel, a man who lives with his mother Vera and constantly gets in trouble for his relationship with Paquita. A rabid rat-monkey, however, bites his mother, who in turn gradually converts the residents of the town into a zombie horde. Since its release, Braindead has received acclaim from contemporary critics, with many filmmakers and critics calling it the goriest \"splatter film\" in history. Although a bomb financially at the time of its release, the film since gained a cult following, with more attention after Jackson\\'s success with The Lord of the Rings trilogy.',\n",
       "     'genres': 'Comedy,Horror',\n",
       "     'title': 'Braindead (1992)'},\n",
       "    '_type': 'movie'},\n",
       "   {'_id': '1690',\n",
       "    '_index': 'movies',\n",
       "    '_score': 7.7266674,\n",
       "    '_source': {'abstract': 'Alien: Resurrection is a 1997 American science fiction action horror film directed by Jean-Pierre Jeunet and written by Joss Whedon. It is the fourth installment in the Alien film series, and was filmed at the 20th Century Fox studios in Los Angeles, California. In the film, which is set 200 years after the preceding installment Alien 3 (1992), Ellen Ripley (Sigourney Weaver) is cloned and an Alien queen is surgically removed from her body. The United Systems Military hopes to breed Aliens to study and research on the spaceship USM Auriga, using human hosts kidnapped and delivered to them by a group of mercenaries. The Aliens escape their enclosures, while Ripley and the mercenaries attempt to escape and destroy the Auriga before it reaches its destination: Earth. Alien: Resurrection was released on November 26, 1997 and received mixed reviews from film critics. Roger Ebert of the Chicago Sun-Times felt \"there is not a single shot in the movie to fill one with wonder\", while Desson Thomson of The Washington Post said the film \"satisfactorily recycles the great surprises that made the first movie so powerful\".',\n",
       "     'genres': 'Action,Horror,Sci-Fi',\n",
       "     'title': 'Alien: Resurrection (1997)'},\n",
       "    '_type': 'movie'},\n",
       "   {'_id': '1200',\n",
       "    '_index': 'movies',\n",
       "    '_score': 7.7185574,\n",
       "    '_source': {'abstract': \"Aliens is a 1986 American military science fiction action horror film written and directed by James Cameron, produced by his then-wife Gale Anne Hurd, and starring Sigourney Weaver, , Michael Biehn, Paul Reiser, Lance Henriksen, William Hope, and Bill Paxton. It is the sequel to the 1979 film Alien and the second installment in the Alien franchise. The film follows Weaver's character Ellen Ripley as she returns to the planet where her crew encountered the hostile Alien creature, this time accompanied by a unit of space marines. Gordon Carroll, David Giler and Walter Hill of Brandywine Productions, who produced the first film and the later sequels, were executive producers of Aliens. They were interested in a follow-up to Alien as soon as its 1979 release, but the new management at 20th Century Fox postponed those plans until 1983. That year Brandywine picked Cameron to write after reading his script for The Terminator; when that film became a hit in 1984, Fox greenlit Aliens with Cameron as director and a budget of approximately $18 million. The script was written with a war film tone influenced by the Vietnam War to contrast the horror motifs of the original Alien. It was filmed in England at Pinewood Studios and at a decommissioned power plant in Acton, London. Aliens grossed $180 million worldwide. It was nominated for seven Academy Awards, including a Best Actress nomination for Sigourney Weaver, winning both Sound Effects Editing and Visual Effects. It won eight Saturn Awards, including Best Science Fiction Film, Best Actress for Weaver and Best Direction and Best Writing for Cameron. Aliens is considered one of the best films in its genre.\",\n",
       "     'genres': 'Action,Sci-Fi,Thriller,War',\n",
       "     'title': 'Aliens (1986)'},\n",
       "    '_type': 'movie'},\n",
       "   {'_id': '1214',\n",
       "    '_index': 'movies',\n",
       "    '_score': 7.4537606,\n",
       "    '_source': {'abstract': 'Alien is a 1979 British-American science-fiction horror film directed by Ridley Scott, and starring Tom Skerritt, Sigourney Weaver, Veronica Cartwright, Harry Dean Stanton, John Hurt, Ian Holm and Yaphet Kotto. The film\\'s title refers to a highly aggressive extraterrestrial creature that stalks and kills the crew of a spaceship. Dan O\\'Bannon wrote the screenplay from a story he wrote with Ronald Shusett, drawing influence from previous works of science fiction and horror. The film was produced by Gordon Carroll, David Giler and Walter Hill through their Brandywine Productions and distributed by 20th Century Fox. Giler and Hill made revisions and additions to the script. Shusett was executive producer. The eponymous Alien and its accompanying elements were designed by Swiss surrealist artist H. R. Giger, while concept artists Ron Cobb and Chris Foss designed the human aspects of the film. Alien launched the Alien franchise and is chronologically the first of the main series, with the prequel series set in an earlier timeframe. Alien received both critical acclaim and box office success, receiving an Academy Award for Best Visual Effects, Saturn Awards for Best Science Fiction Film, Best Direction for Scott, and Best Supporting Actress for Cartwright, and a Hugo Award for Best Dramatic Presentation, along with numerous other award nominations. It has remained highly praised in subsequent decades, being considered one of the greatest films of all time. In 2002, the film was deemed \"culturally, historically or aesthetically significant\" by the Library of Congress and was selected for preservation in the United States National Film Registry. In 2008, it was ranked as the seventh-best film in the science fiction genre by the American Film Institute, and as the 33rd greatest film of all time by Empire magazine. The success of Alien spawned a media franchise of novels, comic books, video games, and toys. It also launched Weaver\\'s acting career by providing her with her first lead role, and the story of her character Ripley\\'s encounters with the Alien creatures became the thematic thread that ran through the sequels Aliens (1986), Alien 3 (1992) and Alien: Resurrection (1997). A prequel series, which includes Prometheus (2012) and Alien: Covenant (2017), continues in development.',\n",
       "     'genres': 'Action,Horror,Sci-Fi,Thriller',\n",
       "     'title': 'Alien (1979)'},\n",
       "    '_type': 'movie'},\n",
       "   {'_id': '3701',\n",
       "    '_index': 'movies',\n",
       "    '_score': 7.1516523,\n",
       "    '_source': {'abstract': 'Alien Nation is a 1988 American buddy cop neo-noir science fiction action film directed by Graham Baker. The ensemble cast features James Caan, Mandy Patinkin and Terence Stamp. The film depicts the assimilation of the \"Newcomers\", an alien race settling in Los Angeles, much to the initial dismay of the local population. The plot integrates the neo-noir and buddy cop film genres with a science fiction theme, centering on a union between a veteran police investigator (Caan) and an extraterrestrial (Patinkin); the first Newcomer detective. The duo probe a criminal underworld attempting to solve a homicide. The film was a co-production between American Entertainment Partners and 20th Century Fox, which distributed it theatrically. Alien Nation explores murder, discrimination and science fiction. Alien Nation was released in the United States on October 7, 1988, and grossed over $32 million worldwide, becoming a moderate financial success. The film was met with mixed critical reviews before its theatrical release, although it has since gained a cult following. Its initial popularity inaugurated the beginning of the Alien Nation media franchise. The motion picture spawned a short-lived television series, five television films, a set of comic books, as well as a number of novels, all in an attempt to continue the character development surrounding the fictional alien culture.',\n",
       "     'genres': 'Crime,Drama,Sci-Fi',\n",
       "     'title': 'Alien Nation (1988)'},\n",
       "    '_type': 'movie'},\n",
       "   {'_id': '2613',\n",
       "    '_index': 'movies',\n",
       "    '_score': 6.8126044,\n",
       "    '_source': {'abstract': 'Night of the Comet is a 1984 American science fiction horror comedy film written and directed by Thom Eberhardt. It stars Catherine Mary Stewart, Robert Beltran, and Kelli Maroney as survivors of a comet that has turned most people into either dust or zombies. Night of the Comet grossed $14.4 million in the US on a $700,000 budget. It has a Rotten Tomatoes approval rating of 83% and has since become a cult film, influencing the creation of Buffy Summers.',\n",
       "     'genres': 'Action,Horror,Sci-Fi',\n",
       "     'title': 'Night of the Comet (1984)'},\n",
       "    '_type': 'movie'},\n",
       "   {'_id': '196',\n",
       "    '_index': 'movies',\n",
       "    '_score': 6.6996684,\n",
       "    '_source': {'abstract': \"Species is a 1995 American science fiction horror thriller film directed by Roger Donaldson and written by Dennis Feldman. It stars Natasha Henstridge, Ben Kingsley, Michael Madsen, Alfred Molina, Forest Whitaker and Marg Helgenberger. In the film, a motley crew of scientists and government agents tries to track down an alien seductress played by Natasha Henstridge before she successfully mates with a human male. Due to her ruthlessness, the alien character was cited as an example of negative treatment of female sexuality and aliens by the Hollywood film industry. The design of Sil was also linked to a chupacabra sighting. The film was conceived by Feldman in 1987, and was originally pitched as a film treatment in the style of a police procedural, entitled The Message. When The Message failed to attract the studios, Feldman re-wrote it as a spec script, which ultimately led to the making of the film. The extraterrestrial in Species, an alien woman named Sil, was designed by H. R. Giger, also responsible for the beings from the Alien franchise. The effects combined practical models done by Giger collaborator Steve Johnson and XFX, with computer-generated imagery done by Richard Edlund's Boss Film Studios. Giger felt the film and the character were too similar to Alien, so he pushed for script changes. Most of the principal photography was done in Los Angeles, California, where the film is set. Several scenes were filmed in Utah and at the Arecibo Observatory in Puerto Rico. The film was poorly received by critics, but nevertheless turned out to be a box office success, grossing US$113 million ($176 million in 2017 dollars). It spawned one theatrical sequel (Species II), as well as two direct-to-video sequels (Species III and Species: The Awakening). Species was adapted into a novel by Yvonne Navarro and two comic book series by Dark Horse Comics, one of which was written by Feldman.\",\n",
       "     'genres': 'Horror,Sci-Fi',\n",
       "     'title': 'Species (1995)'},\n",
       "    '_type': 'movie'},\n",
       "   {'_id': '2666',\n",
       "    '_index': 'movies',\n",
       "    '_score': 6.4183803,\n",
       "    '_source': {'abstract': 'It Conquered the World is an independently made 1956 American science fiction film, produced and directed by Roger Corman, starring Peter Graves, Lee Van Cleef, Beverly Garland and Sally Fraser. The film was distributed by American International Pictures. It Conquered the World concerns an alien creature from the planet Venus that secretly wants to take control of the Earth. The creature makes radio contact with a disillusioned human scientist, who agrees to help because the scientist believes such an alien intervention will bring peace and save a doomed humanity from itself.',\n",
       "     'genres': 'Sci-Fi',\n",
       "     'title': 'It Conquered the World (1956)'},\n",
       "    '_type': 'movie'}],\n",
       "  'max_score': 11.877124,\n",
       "  'total': 50},\n",
       " 'timed_out': False,\n",
       " 'took': 12}"
      ]
     },
     "execution_count": 46,
     "metadata": {},
     "output_type": "execute_result"
    }
   ],
   "source": [
    "es.search(index=\"movies\", body={\"query\":\n",
    "                                         {\"match\": {\n",
    "                                             \"abstract\":\"zombies aliens\"\n",
    "                                             }\n",
    "                                         }\n",
    "                                    }\n",
    "         )"
   ]
  },
  {
   "cell_type": "code",
   "execution_count": 47,
   "metadata": {},
   "outputs": [
    {
     "data": {
      "text/plain": [
       "{'_id': '3696',\n",
       " '_index': 'movies',\n",
       " '_type': 'movie',\n",
       " 'explanation': {'description': 'sum of:',\n",
       "  'details': [{'description': 'weight(abstract:zombi in 2805) [PerFieldSimilarity], result of:',\n",
       "    'details': [{'description': 'score(doc=2805,freq=1.0 = termFreq=1.0\\n), product of:',\n",
       "      'details': [{'description': 'idf, computed as log(1 + (docCount - docFreq + 0.5) / (docFreq + 0.5)) from:',\n",
       "        'details': [{'description': 'docFreq', 'details': [], 'value': 9.0},\n",
       "         {'description': 'docCount', 'details': [], 'value': 3261.0}],\n",
       "        'value': 5.838804},\n",
       "       {'description': 'tfNorm, computed as (freq * (k1 + 1)) / (freq + k1 * (1 - b + b * fieldLength / avgFieldLength)) from:',\n",
       "        'details': [{'description': 'termFreq=1.0',\n",
       "          'details': [],\n",
       "          'value': 1.0},\n",
       "         {'description': 'parameter k1', 'details': [], 'value': 1.2},\n",
       "         {'description': 'parameter b', 'details': [], 'value': 0.75},\n",
       "         {'description': 'avgFieldLength', 'details': [], 'value': 79.92763},\n",
       "         {'description': 'fieldLength', 'details': [], 'value': 52.0}],\n",
       "        'value': 1.1667808}],\n",
       "      'value': 6.8126044}],\n",
       "    'value': 6.8126044},\n",
       "   {'description': 'weight(abstract:alien in 2805) [PerFieldSimilarity], result of:',\n",
       "    'details': [{'description': 'score(doc=2805,freq=1.0 = termFreq=1.0\\n), product of:',\n",
       "      'details': [{'description': 'idf, computed as log(1 + (docCount - docFreq + 0.5) / (docFreq + 0.5)) from:',\n",
       "        'details': [{'description': 'docFreq', 'details': [], 'value': 42.0},\n",
       "         {'description': 'docCount', 'details': [], 'value': 3261.0}],\n",
       "        'value': 4.340592},\n",
       "       {'description': 'tfNorm, computed as (freq * (k1 + 1)) / (freq + k1 * (1 - b + b * fieldLength / avgFieldLength)) from:',\n",
       "        'details': [{'description': 'termFreq=1.0',\n",
       "          'details': [],\n",
       "          'value': 1.0},\n",
       "         {'description': 'parameter k1', 'details': [], 'value': 1.2},\n",
       "         {'description': 'parameter b', 'details': [], 'value': 0.75},\n",
       "         {'description': 'avgFieldLength', 'details': [], 'value': 79.92763},\n",
       "         {'description': 'fieldLength', 'details': [], 'value': 52.0}],\n",
       "        'value': 1.1667808}],\n",
       "      'value': 5.0645194}],\n",
       "    'value': 5.0645194}],\n",
       "  'value': 11.877124},\n",
       " 'matched': True}"
      ]
     },
     "execution_count": 47,
     "metadata": {},
     "output_type": "execute_result"
    }
   ],
   "source": [
    "# See https://www.elastic.co/guide/en/elasticsearch/reference/current/index-modules-similarity.html\n",
    "# and https://www.elastic.co/guide/en/elasticsearch/guide/current/scoring-theory.html for further details\n",
    "es.explain(index=\"movies\", doc_type=\"movie\", id=3696, body={\"query\":\n",
    "                                         {\"match\": {\n",
    "                                             \"abstract\":\"zombies aliens\"\n",
    "                                             }\n",
    "                                         }\n",
    "                                    }\n",
    "         )"
   ]
  },
  {
   "cell_type": "markdown",
   "metadata": {},
   "source": [
    "#### Searching for phrases"
   ]
  },
  {
   "cell_type": "code",
   "execution_count": 48,
   "metadata": {},
   "outputs": [
    {
     "data": {
      "text/plain": [
       "{'_shards': {'failed': 0, 'skipped': 0, 'successful': 1, 'total': 1},\n",
       " 'hits': {'hits': [{'_id': '260',\n",
       "    '_index': 'movies',\n",
       "    '_score': 7.1204076,\n",
       "    '_source': {'abstract': 'Star Wars (later retitled Star Wars: Episode IV – A New Hope) is a 1977 American epic space opera film written and directed by George Lucas. The first installment in the original Star Wars trilogy, it stars Mark Hamill, Harrison Ford, Carrie Fisher, Peter Cushing, and Alec Guinness. David Prowse, James Earl Jones, Anthony Daniels, Kenny Baker and Peter Mayhew co-star in supporting roles. The plot focuses on the Rebel Alliance, led by Princess Leia (Fisher), and its attempt to destroy the Galactic Empire\\'s space station, the Death Star. This conflict disrupts the isolated life of farmhand Luke Skywalker (Hamill) who inadvertently acquires a pair of droids that possess stolen architectural plans for the Death Star. When the Empire begins a destructive search for the missing droids, Skywalker accompanies Jedi Master Obi-Wan Kenobi (Guinness) on a mission to return the plans to the Rebel Alliance and rescue Leia from her imprisonment by the Empire. Star Wars was released theatrically in the United States on May 25, 1977. It earned $461 million in the U.S. and $314 million overseas, totaling $775 million. It surpassed Jaws (1975) to become the highest-grossing film of all time, until the release of E.T. the Extra-Terrestrial (1982). When adjusted for inflation, Star Wars is the second-highest-grossing film in North America, and the third-highest-grossing film in the world. The film received ten Academy Award nominations (including Best Picture), winning seven. It was selected to become part of the U.S. National Film Registry by the Library of Congress in its first year of opening as being \"culturally, historically, or aesthetically significant\"; at the time, it was the newest film to be selected, and it was the only film from the 1970s to be chosen. The film\\'s soundtrack was added to the U.S. National Recording Registry 15 years later. Today, it is often regarded as one of the best films of all time, as well as one of the most important films in the history of motion pictures. It also launched an industry of media tie-in products, including TV series spinoffs, novels, comic books, and video games, as well as various other merchandise, such as toys, games, clothing, and other paraphernalia. The film\\'s massive success led to the production of two sequels: The Empire Strikes Back (1980) and Return of the Jedi (1983), both of which became critically and commercially successful. Since 1977, Star Wars was subsequently reissued multiple times at Lucas\\' behest, incorporating many changes including modified computer-generated effects, altered dialogue, re-edited shots, remixed soundtracks, and added scenes. A prequel trilogy was later released between 1999 and 2005, followed by a sequel trilogy which began in 2015.',\n",
       "     'genres': 'Action,Adventure,Fantasy,Sci-Fi',\n",
       "     'title': 'Star Wars: Episode IV - A New Hope (1977)'},\n",
       "    '_type': 'movie'},\n",
       "   {'_id': '1210',\n",
       "    '_index': 'movies',\n",
       "    '_score': 7.1204076,\n",
       "    '_source': {'abstract': \"Return of the Jedi (also known as Star Wars: Episode VI – Return of the Jedi) is a 1983 American epic space opera film directed by Richard Marquand. The screenplay by Lawrence Kasdan and George Lucas was from a story by Lucas, who was also the executive producer. It was the third and final installment in the original Star Wars trilogy and the first film to use THX technology. The film is set one year after The Empire Strikes Back and was produced by Howard Kazanjian for Lucasfilm Ltd. The film stars Mark Hamill, Harrison Ford, Carrie Fisher, Billy Dee Williams, Anthony Daniels, David Prowse, Kenny Baker, Peter Mayhew and Frank Oz. The Galactic Empire, under the direction of the ruthless Emperor, is constructing a second Death Star in order to crush the Rebel Alliance once and for all. Since the Emperor plans to personally oversee the final stages of its construction, the Rebel Fleet launches a full-scale attack on the Death Star in order to prevent its completion and kill the Emperor, effectively bringing an end to the Empire's hold over the galaxy. Meanwhile, Luke Skywalker, a Jedi apprentice, struggles to bring Darth Vader, whom he finds out is actually his father Anakin Skywalker and a fallen Jedi, back from the Dark Side of the Force. David Lynch and David Cronenberg were considered to direct the project before Marquand signed on as director. The production team relied on Lucas' storyboards during pre-production. While writing the shooting script, Lucas, Kasdan, Marquand, and producer Howard Kazanjian spent two weeks in conference discussing ideas to construct it. Kazanjian's schedule pushed shooting to begin a few weeks early to allow Industrial Light & Magic more time to work on the film's effects in post-production. Filming took place in England, California, and Arizona from January to May 1982. Strict secrecy surrounded the production and the film used the working title Blue Harvest to prevent price gouging. The film was released in theaters on May 25, 1983, six years to the day after the release of the first film, receiving mostly positive reviews. The film grossed between $475 million and $572 million worldwide. Several home video and theatrical releases and revisions to the film followed over the next 20 years. Star Wars continued with Episode I: The Phantom Menace as part of the film series' prequel trilogy. A sequel, Star Wars: The Force Awakens, was released on December 18, 2015 as part of the new sequel trilogy.\",\n",
       "     'genres': 'Action,Adventure,Romance,Sci-Fi,War',\n",
       "     'title': 'Star Wars: Episode VI - Return of the Jedi (1983)'},\n",
       "    '_type': 'movie'},\n",
       "   {'_id': '2628',\n",
       "    '_index': 'movies',\n",
       "    '_score': 7.1204076,\n",
       "    '_source': {'abstract': 'Shampoo is a 1975 American satirical romantic comedy-drama film written by Robert Towne and directed by Hal Ashby. It stars Warren Beatty, Julie Christie and Goldie Hawn, with Lee Grant, Jack Warden, Tony Bill and in an early film appearance, Carrie Fisher. The film is set on Election Day 1968, the day Richard Nixon was first elected as President of the United States, and was released soon after the Watergate scandal had reached its conclusion. The political atmosphere provides a source of dramatic irony, since the audience, but not the characters, are aware of the direction the Nixon presidency would eventually take. However, the main theme of the film is not presidential politics but sexual politics; it is renowned for its sharp satire of late-1960s sexual and social mores. The lead character, George Roundy, is reportedly based on several actual hairdressers, including Jay Sebring and film producer Jon Peters, who is a former hairdresser. Sebring was brutally murdered by the Charles Manson family in 1969. According to the 2010 book Star: How Warren Beatty Seduced America by Peter Biskind, the screenwriter Towne based the character on Beverly Hills hairdresser Gene Shacove.',\n",
       "     'genres': 'Action,Adventure,Fantasy,Sci-Fi',\n",
       "     'title': 'Star Wars: Episode I - The Phantom Menace (1999)'},\n",
       "    '_type': 'movie'},\n",
       "   {'_id': '1196',\n",
       "    '_index': 'movies',\n",
       "    '_score': 6.556919,\n",
       "    '_source': {'abstract': 'The Empire Strikes Back (also known as Star Wars: Episode V – The Empire Strikes Back) is a 1980 American epic space opera film directed by Irvin Kershner. Leigh Brackett and Lawrence Kasdan wrote the screenplay, with George Lucas writing the film\\'s story and serving as executive producer. The second installment in the original Star Wars trilogy, it was produced by Gary Kurtz for Lucasfilm Ltd. and stars Mark Hamill, Harrison Ford, Carrie Fisher, Billy Dee Williams, Anthony Daniels, David Prowse, Kenny Baker, Peter Mayhew and Frank Oz. The film is set three years after Star Wars. The Galactic Empire, under the leadership of the villainous Darth Vader and the Emperor, is in pursuit of Luke Skywalker and the rest of the Rebel Alliance. While Vader chases a small band of Luke\\'s friends—Han Solo, Princess Leia Organa, and others—across the galaxy, Luke studies the Force under Jedi Master Yoda. When Vader captures Luke\\'s friends, Luke must decide whether to complete his training and become a full Jedi Knight or to confront Vader and save them. Following a difficult production, The Empire Strikes Back was released on May 21, 1980. It received mixed reviews from critics initially but has since grown in esteem, becoming the most critically acclaimed chapter in the Star Wars saga; it is now widely regarded as one of the greatest films of all time. The film ranks #3 on Empire\\'s 2008 list of the 500 greatest movies of all time. It became the highest-grossing film of 1980 and, to date, has earned more than $538 million worldwide from its original run and several re-releases. When adjusted for inflation, it is the second-highest-grossing sequel of all time and the 13th-highest-grossing film in North America. The film was followed by a sequel, titled Return of the Jedi, which was released in 1983. In 2010, the film was selected for preservation in the United States\\' National Film Registry by the Library of Congress for being \"culturally, historically, and aesthetically significant.\"',\n",
       "     'genres': 'Action,Adventure,Drama,Sci-Fi,War',\n",
       "     'title': 'Star Wars: Episode V - The Empire Strikes Back (1980)'},\n",
       "    '_type': 'movie'}],\n",
       "  'max_score': 7.1204076,\n",
       "  'total': 4},\n",
       " 'timed_out': False,\n",
       " 'took': 9}"
      ]
     },
     "execution_count": 48,
     "metadata": {},
     "output_type": "execute_result"
    }
   ],
   "source": [
    "es.search(index=\"movies\", body={\"query\":\n",
    "                                         {\"match_phrase\": {\n",
    "                                             \"title\":\"star wars\"\n",
    "                                             }\n",
    "                                         }\n",
    "                                    }\n",
    "         )"
   ]
  },
  {
   "cell_type": "markdown",
   "metadata": {},
   "source": [
    "#### Searching for Similar movies, by content"
   ]
  },
  {
   "cell_type": "markdown",
   "metadata": {},
   "source": [
    "#### More like this"
   ]
  },
  {
   "cell_type": "code",
   "execution_count": 49,
   "metadata": {},
   "outputs": [
    {
     "data": {
      "text/plain": [
       "{'_id': '1196',\n",
       " '_index': 'movies',\n",
       " '_source': {'abstract': 'The Empire Strikes Back (also known as Star Wars: Episode V – The Empire Strikes Back) is a 1980 American epic space opera film directed by Irvin Kershner. Leigh Brackett and Lawrence Kasdan wrote the screenplay, with George Lucas writing the film\\'s story and serving as executive producer. The second installment in the original Star Wars trilogy, it was produced by Gary Kurtz for Lucasfilm Ltd. and stars Mark Hamill, Harrison Ford, Carrie Fisher, Billy Dee Williams, Anthony Daniels, David Prowse, Kenny Baker, Peter Mayhew and Frank Oz. The film is set three years after Star Wars. The Galactic Empire, under the leadership of the villainous Darth Vader and the Emperor, is in pursuit of Luke Skywalker and the rest of the Rebel Alliance. While Vader chases a small band of Luke\\'s friends—Han Solo, Princess Leia Organa, and others—across the galaxy, Luke studies the Force under Jedi Master Yoda. When Vader captures Luke\\'s friends, Luke must decide whether to complete his training and become a full Jedi Knight or to confront Vader and save them. Following a difficult production, The Empire Strikes Back was released on May 21, 1980. It received mixed reviews from critics initially but has since grown in esteem, becoming the most critically acclaimed chapter in the Star Wars saga; it is now widely regarded as one of the greatest films of all time. The film ranks #3 on Empire\\'s 2008 list of the 500 greatest movies of all time. It became the highest-grossing film of 1980 and, to date, has earned more than $538 million worldwide from its original run and several re-releases. When adjusted for inflation, it is the second-highest-grossing sequel of all time and the 13th-highest-grossing film in North America. The film was followed by a sequel, titled Return of the Jedi, which was released in 1983. In 2010, the film was selected for preservation in the United States\\' National Film Registry by the Library of Congress for being \"culturally, historically, and aesthetically significant.\"',\n",
       "  'genres': 'Action,Adventure,Drama,Sci-Fi,War',\n",
       "  'title': 'Star Wars: Episode V - The Empire Strikes Back (1980)'},\n",
       " '_type': 'movie',\n",
       " '_version': 1,\n",
       " 'found': True}"
      ]
     },
     "execution_count": 49,
     "metadata": {},
     "output_type": "execute_result"
    }
   ],
   "source": [
    "es.get(index=\"movies\", id=1196, doc_type=\"movie\")"
   ]
  },
  {
   "cell_type": "code",
   "execution_count": 50,
   "metadata": {},
   "outputs": [],
   "source": [
    "mlts = es.search(index=\"movies\", doc_type=\"movie\", body = {\"query\": {\n",
    "                                                                \"more_like_this\" : {\n",
    "                                                                    \"fields\" : [\"abstract\"],\n",
    "                                                                    \"like\" : [\n",
    "                                                                        {\n",
    "                                                                            \"_index\" : \"movies\",\n",
    "                                                                            \"_type\" : \"movie\",\n",
    "                                                                            \"_id\" : 1196\n",
    "                                                                        }\n",
    "                                                                    ],\n",
    "                                                                    \"max_query_terms\" : 10,\n",
    "                                                                    \"min_term_freq\" : 1,\n",
    "                                                                }\n",
    "                                                            }\n",
    "                                                        }\n",
    ")"
   ]
  },
  {
   "cell_type": "code",
   "execution_count": 51,
   "metadata": {
    "scrolled": false
   },
   "outputs": [
    {
     "name": "stdout",
     "output_type": "stream",
     "text": [
      "Star Wars: Episode IV - A New Hope (1977)\n",
      "Star Wars: Episode VI - Return of the Jedi (1983)\n",
      "Jaws 2 (1978)\n",
      "Body Heat (1981)\n",
      "E.T. the Extra-Terrestrial (1982)\n",
      "Pale Rider (1985)\n",
      "Little Big League (1994)\n",
      "King Kong (1976)\n",
      "Back to the Future Part III (1990)\n",
      "Best Years of Our Lives, The (1946)\n"
     ]
    }
   ],
   "source": [
    "for movie in mlts[\"hits\"][\"hits\"]:\n",
    "    print(movie[\"_source\"][\"title\"])"
   ]
  },
  {
   "cell_type": "markdown",
   "metadata": {},
   "source": [
    "## Cool, you built a movies recommender system 😎"
   ]
  }
 ],
 "metadata": {
  "kernelspec": {
   "display_name": "sellforte36",
   "language": "python",
   "name": "py36"
  },
  "language_info": {
   "codemirror_mode": {
    "name": "ipython",
    "version": 3
   },
   "file_extension": ".py",
   "mimetype": "text/x-python",
   "name": "python",
   "nbconvert_exporter": "python",
   "pygments_lexer": "ipython3",
   "version": "3.6.4"
  }
 },
 "nbformat": 4,
 "nbformat_minor": 2
}
