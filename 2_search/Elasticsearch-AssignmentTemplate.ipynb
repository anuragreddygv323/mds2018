{
 "cells": [
  {
   "cell_type": "code",
   "execution_count": 3,
   "metadata": {},
   "outputs": [],
   "source": [
    "import json\n",
    "import os\n",
    "import pandas as pd\n",
    "import elasticsearch"
   ]
  },
  {
   "cell_type": "code",
   "execution_count": 2,
   "metadata": {},
   "outputs": [],
   "source": [
    "data_dir = \"/home/ubuntu/movielens_v2/movielens\"\n",
    "#data_dir = \"C:/Users/your_username/movielens_v2/\" # For windows"
   ]
  },
  {
   "cell_type": "markdown",
   "metadata": {},
   "source": [
    "#### Load the Movielens Dataset"
   ]
  },
  {
   "cell_type": "code",
   "execution_count": 3,
   "metadata": {},
   "outputs": [],
   "source": [
    "df_dbpedia = pd.read_csv(os.path.join(data_dir, \"dbpedia.csv\"))\n",
    "df_dbpedia[\"dbpedia_content\"] = df_dbpedia[\"dbpedia_content\"].apply(json.loads) # Parse string to JSON\n",
    "df_movie = pd.read_csv(os.path.join(data_dir, \"movies.csv\"))\n",
    "df_movie[\"genres\"] = df_movie[\"genres\"].apply(lambda x: x.replace(\"|\",\",\"))\n",
    "df_rating = pd.read_csv(os.path.join(data_dir, \"ratings.csv\"))\n",
    "df_user = pd.read_csv(os.path.join(data_dir, \"users.csv\"))"
   ]
  },
  {
   "cell_type": "markdown",
   "metadata": {},
   "source": [
    "### Elasticsearch provides a RESTful API. This is language independent\n",
    "- For instance, you can do `curl -XGET http://localhost:9200/` to get information about the node\n",
    "- To create an index, you can use:\n",
    "    - curl -XPUT http://localhost:9200/movies/ -H \"Content-Type: application/json\" -d '{\n",
    "            \"mappings\": {\n",
    "                \"movie\": {\n",
    "                    \"properties\": {\n",
    "                        \"title\": {\n",
    "                           \"type\": \"text\",\n",
    "                           \"analyzer\": \"whitespace\",\n",
    "                           \"term_vector\": \"yes\"\n",
    "                       }\n",
    "                    }\n",
    "                }\n",
    "           }\n",
    "       }'\n",
    "- It is easier to use the python elasticsearch library"
   ]
  },
  {
   "cell_type": "code",
   "execution_count": 4,
   "metadata": {},
   "outputs": [],
   "source": [
    "import elasticsearch # Imports the library"
   ]
  },
  {
   "cell_type": "code",
   "execution_count": 5,
   "metadata": {},
   "outputs": [],
   "source": [
    "es = elasticsearch.Elasticsearch() # Defines how to connect to a Elasticsearch node"
   ]
  },
  {
   "cell_type": "code",
   "execution_count": null,
   "metadata": {},
   "outputs": [],
   "source": [
    "df_dbpedia_merged = df_dbpedia[[\"movie_id\",\"dbpedia_content\"]].merge(df_movie, on=\"movie_id\")"
   ]
  },
  {
   "cell_type": "markdown",
   "metadata": {},
   "source": [
    "#### Start assignment from here"
   ]
  },
  {
   "cell_type": "code",
   "execution_count": null,
   "metadata": {},
   "outputs": [],
   "source": []
  }
 ],
 "metadata": {
  "kernelspec": {
   "display_name": "sellforte36",
   "language": "python",
   "name": "py36"
  },
  "language_info": {
   "codemirror_mode": {
    "name": "ipython",
    "version": 3
   },
   "file_extension": ".py",
   "mimetype": "text/x-python",
   "name": "python",
   "nbconvert_exporter": "python",
   "pygments_lexer": "ipython3",
   "version": "3.6.4"
  }
 },
 "nbformat": 4,
 "nbformat_minor": 2
}
