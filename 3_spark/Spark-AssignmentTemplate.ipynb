{
 "cells": [
  {
   "cell_type": "markdown",
   "metadata": {},
   "source": [
    "# Assignment 3 - Part B: Spark Programming"
   ]
  },
  {
   "cell_type": "markdown",
   "metadata": {},
   "source": [
    "References:\n",
    "\n",
    "- Learning Spark by Holden Karau, Andy Konwinski, Patrick Wendell, and Matei Zaharia (O’Reilly). Copyright 2015 Databricks, 978-1-449-35862-4.\n",
    "- Spark: The Definitive Guide by Bill Chambers and Matei Zaharia (O’Reilly). Copyright 2018 Databricks, Inc., 978-1-491-91221-8.\n",
    "- https://spark.apache.org/docs/latest/index.html"
   ]
  },
  {
   "cell_type": "markdown",
   "metadata": {},
   "source": [
    "## 1.- Getting started: The SparkSession and the Spark UI"
   ]
  },
  {
   "cell_type": "code",
   "execution_count": 1,
   "metadata": {},
   "outputs": [],
   "source": [
    "import findspark\n",
    "# Change the path to the Spark folder accordingly\n",
    "findspark.init(spark_home=\"/home/ubuntu/software/spark\")"
   ]
  },
  {
   "cell_type": "code",
   "execution_count": 10,
   "metadata": {},
   "outputs": [],
   "source": [
    "data_folder = \"/home/ubuntu/movielens_v2/movielens\""
   ]
  },
  {
   "cell_type": "markdown",
   "metadata": {},
   "source": [
    "#### Now we can import pyspark"
   ]
  },
  {
   "cell_type": "code",
   "execution_count": 3,
   "metadata": {},
   "outputs": [],
   "source": [
    "import pyspark\n",
    "import numpy as np # We'll be using numpy for some numeric operations\n",
    "import os"
   ]
  },
  {
   "cell_type": "code",
   "execution_count": 4,
   "metadata": {},
   "outputs": [],
   "source": [
    "# pyspark provides a SparkContext\n",
    "sc = pyspark.SparkContext(master=\"local[*]\", appName=\"tour\")\n",
    "# Now you can go to http://localhost:4040/ and see the Spark UI!\n",
    "# Try re-running this line"
   ]
  },
  {
   "cell_type": "code",
   "execution_count": 5,
   "metadata": {},
   "outputs": [],
   "source": [
    "# To try the SparkContext with other masters first stop the one that is already running\n",
    "# sc.stop()"
   ]
  },
  {
   "cell_type": "markdown",
   "metadata": {},
   "source": [
    "- **local**: Run Spark locally with one worker thread (i.e. no parallelism at all).\n",
    "- **local[K]**: Run Spark locally with K worker threads (ideally, set this to the number of cores on your machine).\n",
    "- **local[*]**: Run Spark locally with as many worker threads as logical cores on your machine."
   ]
  },
  {
   "cell_type": "markdown",
   "metadata": {},
   "source": [
    "#### Definition of files paths"
   ]
  },
  {
   "cell_type": "code",
   "execution_count": null,
   "metadata": {},
   "outputs": [],
   "source": [
    "ratings_file = os.path.join(data_folder, \"ratings.csv\")\n",
    "assert os.path.exists(ratings_file), f\"Is the ratings file in {data_folder}?\"\n",
    "users_file = os.path.join(data_folder, \"users.csv\")\n",
    "assert os.path.exists(users_file), f\"Is the users file in {data_folder}?\"\n",
    "dbpedia_file = os.path.join(data_folder, \"dbpedia.csv\")\n",
    "assert os.path.exists(dbpedia_file), f\"Is the dbpedia file in {data_folder}?\"\n",
    "movies_file = os.path.join(data_folder, \"movies.csv\")\n",
    "assert os.path.exists(movies_file), f\"Is the movies file in {data_folder}?\""
   ]
  },
  {
   "cell_type": "markdown",
   "metadata": {},
   "source": [
    "## You can start the assignment from here"
   ]
  },
  {
   "cell_type": "code",
   "execution_count": null,
   "metadata": {},
   "outputs": [],
   "source": []
  }
 ],
 "metadata": {
  "kernelspec": {
   "display_name": "Python 3",
   "language": "python",
   "name": "python3"
  },
  "language_info": {
   "codemirror_mode": {
    "name": "ipython",
    "version": 3
   },
   "file_extension": ".py",
   "mimetype": "text/x-python",
   "name": "python",
   "nbconvert_exporter": "python",
   "pygments_lexer": "ipython3",
   "version": "3.6.4"
  }
 },
 "nbformat": 4,
 "nbformat_minor": 1
}
